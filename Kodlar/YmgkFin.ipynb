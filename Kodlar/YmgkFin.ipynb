{
  "nbformat": 4,
  "nbformat_minor": 0,
  "metadata": {
    "colab": {
      "name": "YmgkFin.ipynb",
      "provenance": [],
      "collapsed_sections": []
    },
    "kernelspec": {
      "name": "python3",
      "display_name": "Python 3"
    }
  },
  "cells": [
    {
      "cell_type": "code",
      "metadata": {
        "id": "t7_BofOvRses",
        "colab_type": "code",
        "colab": {}
      },
      "source": [
        "import pandas as pd\n",
        "\n",
        "df = pd.read_excel('/content/SpringData2020.xlsx')"
      ],
      "execution_count": null,
      "outputs": []
    },
    {
      "cell_type": "code",
      "metadata": {
        "id": "NdnbV8jBWO-0",
        "colab_type": "code",
        "colab": {}
      },
      "source": [
        "\n",
        "df=df.rename(columns=df.iloc[0])\n",
        "df=df.drop(df.index[0])\n"
      ],
      "execution_count": null,
      "outputs": []
    },
    {
      "cell_type": "code",
      "metadata": {
        "id": "1Nw2jGtkSk-y",
        "colab_type": "code",
        "colab": {}
      },
      "source": [
        "df.columns.values[0]=\"Tarih\"\n",
        "\n"
      ],
      "execution_count": null,
      "outputs": []
    },
    {
      "cell_type": "code",
      "metadata": {
        "id": "kntSRgfwU44C",
        "colab_type": "code",
        "colab": {
          "base_uri": "https://localhost:8080/",
          "height": 34
        },
        "outputId": "73326ec9-dc8a-48b8-c555-005eb2d98593"
      },
      "source": [
        "df.isnull().values.any()"
      ],
      "execution_count": null,
      "outputs": [
        {
          "output_type": "execute_result",
          "data": {
            "text/plain": [
              "True"
            ]
          },
          "metadata": {
            "tags": []
          },
          "execution_count": 178
        }
      ]
    },
    {
      "cell_type": "code",
      "metadata": {
        "id": "6VtxcqrHZVMV",
        "colab_type": "code",
        "colab": {}
      },
      "source": [
        "def missing_values_table(df):\n",
        "        mis_val = df.isnull().sum()\n",
        "        mis_val_percent = 100 * df.isnull().sum() / len(df)\n",
        "        mis_val_table = pd.concat([mis_val, mis_val_percent], axis=1)\n",
        "        mis_val_table_ren_columns = mis_val_table.rename(\n",
        "        columns = {0 : 'Missing Values', 1 : '% of Total Values'})\n",
        "        mis_val_table_ren_columns = mis_val_table_ren_columns[\n",
        "            mis_val_table_ren_columns.iloc[:,1] != 0].sort_values(\n",
        "        '% of Total Values', ascending=False).round(1)\n",
        "        print (\"Your selected dataframe has \" + str(df.shape[1]) + \" columns.\\n\"      \n",
        "            \"There are \" + str(mis_val_table_ren_columns.shape[0]) +\n",
        "              \" columns that have missing values.\")\n",
        "        return mis_val_table_ren_columns"
      ],
      "execution_count": null,
      "outputs": []
    },
    {
      "cell_type": "code",
      "metadata": {
        "id": "Ayxjkom5aEP7",
        "colab_type": "code",
        "colab": {
          "base_uri": "https://localhost:8080/",
          "height": 238
        },
        "outputId": "ca9997c7-71ae-4107-959a-de7494b8e118"
      },
      "source": [
        "missing_values_table(df)"
      ],
      "execution_count": null,
      "outputs": [
        {
          "output_type": "stream",
          "text": [
            "Your selected dataframe has 6 columns.\n",
            "There are 5 columns that have missing values.\n"
          ],
          "name": "stdout"
        },
        {
          "output_type": "execute_result",
          "data": {
            "text/html": [
              "<div>\n",
              "<style scoped>\n",
              "    .dataframe tbody tr th:only-of-type {\n",
              "        vertical-align: middle;\n",
              "    }\n",
              "\n",
              "    .dataframe tbody tr th {\n",
              "        vertical-align: top;\n",
              "    }\n",
              "\n",
              "    .dataframe thead th {\n",
              "        text-align: right;\n",
              "    }\n",
              "</style>\n",
              "<table border=\"1\" class=\"dataframe\">\n",
              "  <thead>\n",
              "    <tr style=\"text-align: right;\">\n",
              "      <th></th>\n",
              "      <th>Missing Values</th>\n",
              "      <th>% of Total Values</th>\n",
              "    </tr>\n",
              "  </thead>\n",
              "  <tbody>\n",
              "    <tr>\n",
              "      <th>NOX ( µg/m³ )</th>\n",
              "      <td>2208</td>\n",
              "      <td>100.0</td>\n",
              "    </tr>\n",
              "    <tr>\n",
              "      <th>PM10 ( µg/m³ )</th>\n",
              "      <td>7</td>\n",
              "      <td>0.3</td>\n",
              "    </tr>\n",
              "    <tr>\n",
              "      <th>SO2 ( µg/m³ )</th>\n",
              "      <td>1</td>\n",
              "      <td>0.0</td>\n",
              "    </tr>\n",
              "    <tr>\n",
              "      <th>CO ( µg/m³ )</th>\n",
              "      <td>1</td>\n",
              "      <td>0.0</td>\n",
              "    </tr>\n",
              "    <tr>\n",
              "      <th>NO2 ( µg/m³ )</th>\n",
              "      <td>1</td>\n",
              "      <td>0.0</td>\n",
              "    </tr>\n",
              "  </tbody>\n",
              "</table>\n",
              "</div>"
            ],
            "text/plain": [
              "                Missing Values  % of Total Values\n",
              "NOX ( µg/m³ )             2208              100.0\n",
              "PM10 ( µg/m³ )               7                0.3\n",
              "SO2 ( µg/m³ )                1                0.0\n",
              "CO ( µg/m³ )                 1                0.0\n",
              "NO2 ( µg/m³ )                1                0.0"
            ]
          },
          "metadata": {
            "tags": []
          },
          "execution_count": 180
        }
      ]
    },
    {
      "cell_type": "code",
      "metadata": {
        "id": "ldjOfQSPaalk",
        "colab_type": "code",
        "colab": {}
      },
      "source": [
        "df = df.drop(['NOX ( µg/m³ )'], axis=1)\n",
        "df[\"SO2 ( µg/m³ )\"].fillna( method ='ffill', inplace = True)\n",
        "df[\"NO2 ( µg/m³ )\"].fillna( method ='ffill', inplace = True)\n",
        "df[\"CO ( µg/m³ )\"].fillna( method ='ffill', inplace = True)"
      ],
      "execution_count": null,
      "outputs": []
    },
    {
      "cell_type": "code",
      "metadata": {
        "id": "kxC89iNNhZHh",
        "colab_type": "code",
        "colab": {
          "base_uri": "https://localhost:8080/",
          "height": 419
        },
        "outputId": "126314d9-3f0f-4c41-f412-e9c236929433"
      },
      "source": [
        "df"
      ],
      "execution_count": null,
      "outputs": [
        {
          "output_type": "execute_result",
          "data": {
            "text/html": [
              "<div>\n",
              "<style scoped>\n",
              "    .dataframe tbody tr th:only-of-type {\n",
              "        vertical-align: middle;\n",
              "    }\n",
              "\n",
              "    .dataframe tbody tr th {\n",
              "        vertical-align: top;\n",
              "    }\n",
              "\n",
              "    .dataframe thead th {\n",
              "        text-align: right;\n",
              "    }\n",
              "</style>\n",
              "<table border=\"1\" class=\"dataframe\">\n",
              "  <thead>\n",
              "    <tr style=\"text-align: right;\">\n",
              "      <th></th>\n",
              "      <th>Tarih</th>\n",
              "      <th>PM10 ( µg/m³ )</th>\n",
              "      <th>SO2 ( µg/m³ )</th>\n",
              "      <th>CO ( µg/m³ )</th>\n",
              "      <th>NO2 ( µg/m³ )</th>\n",
              "    </tr>\n",
              "  </thead>\n",
              "  <tbody>\n",
              "    <tr>\n",
              "      <th>1</th>\n",
              "      <td>2020-03-01 00:00:56</td>\n",
              "      <td>17.47</td>\n",
              "      <td>3.66</td>\n",
              "      <td>203.79</td>\n",
              "      <td>7.73</td>\n",
              "    </tr>\n",
              "    <tr>\n",
              "      <th>2</th>\n",
              "      <td>2020-03-01 01:00:56</td>\n",
              "      <td>11.96</td>\n",
              "      <td>4.26</td>\n",
              "      <td>225.59</td>\n",
              "      <td>7.66</td>\n",
              "    </tr>\n",
              "    <tr>\n",
              "      <th>3</th>\n",
              "      <td>2020-03-01 02:00:56</td>\n",
              "      <td>25.56</td>\n",
              "      <td>3.29</td>\n",
              "      <td>224.87</td>\n",
              "      <td>7.74</td>\n",
              "    </tr>\n",
              "    <tr>\n",
              "      <th>4</th>\n",
              "      <td>2020-03-01 03:00:56</td>\n",
              "      <td>17.58</td>\n",
              "      <td>2.73</td>\n",
              "      <td>237.86</td>\n",
              "      <td>7.69</td>\n",
              "    </tr>\n",
              "    <tr>\n",
              "      <th>5</th>\n",
              "      <td>2020-03-01 04:00:56</td>\n",
              "      <td>35.75</td>\n",
              "      <td>3.22</td>\n",
              "      <td>240.17</td>\n",
              "      <td>7.70</td>\n",
              "    </tr>\n",
              "    <tr>\n",
              "      <th>...</th>\n",
              "      <td>...</td>\n",
              "      <td>...</td>\n",
              "      <td>...</td>\n",
              "      <td>...</td>\n",
              "      <td>...</td>\n",
              "    </tr>\n",
              "    <tr>\n",
              "      <th>2204</th>\n",
              "      <td>2020-05-31 19:00:56</td>\n",
              "      <td>29.09</td>\n",
              "      <td>4.50</td>\n",
              "      <td>129.89</td>\n",
              "      <td>3.92</td>\n",
              "    </tr>\n",
              "    <tr>\n",
              "      <th>2205</th>\n",
              "      <td>2020-05-31 20:00:56</td>\n",
              "      <td>36.97</td>\n",
              "      <td>4.74</td>\n",
              "      <td>128.13</td>\n",
              "      <td>3.93</td>\n",
              "    </tr>\n",
              "    <tr>\n",
              "      <th>2206</th>\n",
              "      <td>2020-05-31 21:00:56</td>\n",
              "      <td>24.06</td>\n",
              "      <td>4.52</td>\n",
              "      <td>125.54</td>\n",
              "      <td>3.83</td>\n",
              "    </tr>\n",
              "    <tr>\n",
              "      <th>2207</th>\n",
              "      <td>2020-05-31 22:00:56</td>\n",
              "      <td>9.35</td>\n",
              "      <td>4.75</td>\n",
              "      <td>128.38</td>\n",
              "      <td>3.91</td>\n",
              "    </tr>\n",
              "    <tr>\n",
              "      <th>2208</th>\n",
              "      <td>2020-05-31 23:00:56</td>\n",
              "      <td>22.35</td>\n",
              "      <td>4.49</td>\n",
              "      <td>129.75</td>\n",
              "      <td>3.92</td>\n",
              "    </tr>\n",
              "  </tbody>\n",
              "</table>\n",
              "<p>2208 rows × 5 columns</p>\n",
              "</div>"
            ],
            "text/plain": [
              "                   Tarih PM10 ( µg/m³ )  ...  CO ( µg/m³ )  NO2 ( µg/m³ )\n",
              "1    2020-03-01 00:00:56          17.47  ...        203.79           7.73\n",
              "2    2020-03-01 01:00:56          11.96  ...        225.59           7.66\n",
              "3    2020-03-01 02:00:56          25.56  ...        224.87           7.74\n",
              "4    2020-03-01 03:00:56          17.58  ...        237.86           7.69\n",
              "5    2020-03-01 04:00:56          35.75  ...        240.17           7.70\n",
              "...                  ...            ...  ...           ...            ...\n",
              "2204 2020-05-31 19:00:56          29.09  ...        129.89           3.92\n",
              "2205 2020-05-31 20:00:56          36.97  ...        128.13           3.93\n",
              "2206 2020-05-31 21:00:56          24.06  ...        125.54           3.83\n",
              "2207 2020-05-31 22:00:56           9.35  ...        128.38           3.91\n",
              "2208 2020-05-31 23:00:56          22.35  ...        129.75           3.92\n",
              "\n",
              "[2208 rows x 5 columns]"
            ]
          },
          "metadata": {
            "tags": []
          },
          "execution_count": 182
        }
      ]
    },
    {
      "cell_type": "code",
      "metadata": {
        "id": "zLKaAr-Bh5r8",
        "colab_type": "code",
        "colab": {
          "base_uri": "https://localhost:8080/",
          "height": 114
        },
        "outputId": "00082430-fec5-4039-adde-247b4ef83d76"
      },
      "source": [
        "missing_values_table(df)"
      ],
      "execution_count": null,
      "outputs": [
        {
          "output_type": "stream",
          "text": [
            "Your selected dataframe has 5 columns.\n",
            "There are 1 columns that have missing values.\n"
          ],
          "name": "stdout"
        },
        {
          "output_type": "execute_result",
          "data": {
            "text/html": [
              "<div>\n",
              "<style scoped>\n",
              "    .dataframe tbody tr th:only-of-type {\n",
              "        vertical-align: middle;\n",
              "    }\n",
              "\n",
              "    .dataframe tbody tr th {\n",
              "        vertical-align: top;\n",
              "    }\n",
              "\n",
              "    .dataframe thead th {\n",
              "        text-align: right;\n",
              "    }\n",
              "</style>\n",
              "<table border=\"1\" class=\"dataframe\">\n",
              "  <thead>\n",
              "    <tr style=\"text-align: right;\">\n",
              "      <th></th>\n",
              "      <th>Missing Values</th>\n",
              "      <th>% of Total Values</th>\n",
              "    </tr>\n",
              "  </thead>\n",
              "  <tbody>\n",
              "    <tr>\n",
              "      <th>PM10 ( µg/m³ )</th>\n",
              "      <td>7</td>\n",
              "      <td>0.3</td>\n",
              "    </tr>\n",
              "  </tbody>\n",
              "</table>\n",
              "</div>"
            ],
            "text/plain": [
              "                Missing Values  % of Total Values\n",
              "PM10 ( µg/m³ )               7                0.3"
            ]
          },
          "metadata": {
            "tags": []
          },
          "execution_count": 183
        }
      ]
    },
    {
      "cell_type": "code",
      "metadata": {
        "id": "FkzzSkZYigFV",
        "colab_type": "code",
        "colab": {}
      },
      "source": [
        "df = df.fillna(df.mean())"
      ],
      "execution_count": null,
      "outputs": []
    },
    {
      "cell_type": "code",
      "metadata": {
        "id": "aTekOExui-iY",
        "colab_type": "code",
        "colab": {
          "base_uri": "https://localhost:8080/",
          "height": 83
        },
        "outputId": "a23f636e-85e6-44b6-eff4-f3cb3d003e3b"
      },
      "source": [
        "missing_values_table(df)"
      ],
      "execution_count": null,
      "outputs": [
        {
          "output_type": "stream",
          "text": [
            "Your selected dataframe has 5 columns.\n",
            "There are 0 columns that have missing values.\n"
          ],
          "name": "stdout"
        },
        {
          "output_type": "execute_result",
          "data": {
            "text/html": [
              "<div>\n",
              "<style scoped>\n",
              "    .dataframe tbody tr th:only-of-type {\n",
              "        vertical-align: middle;\n",
              "    }\n",
              "\n",
              "    .dataframe tbody tr th {\n",
              "        vertical-align: top;\n",
              "    }\n",
              "\n",
              "    .dataframe thead th {\n",
              "        text-align: right;\n",
              "    }\n",
              "</style>\n",
              "<table border=\"1\" class=\"dataframe\">\n",
              "  <thead>\n",
              "    <tr style=\"text-align: right;\">\n",
              "      <th></th>\n",
              "      <th>Missing Values</th>\n",
              "      <th>% of Total Values</th>\n",
              "    </tr>\n",
              "  </thead>\n",
              "  <tbody>\n",
              "  </tbody>\n",
              "</table>\n",
              "</div>"
            ],
            "text/plain": [
              "Empty DataFrame\n",
              "Columns: [Missing Values, % of Total Values]\n",
              "Index: []"
            ]
          },
          "metadata": {
            "tags": []
          },
          "execution_count": 185
        }
      ]
    },
    {
      "cell_type": "code",
      "metadata": {
        "id": "gRNWDK0j-bfp",
        "colab_type": "code",
        "colab": {
          "base_uri": "https://localhost:8080/",
          "height": 419
        },
        "outputId": "a04ea474-ac8b-4952-e761-f849957c859e"
      },
      "source": [
        "df"
      ],
      "execution_count": null,
      "outputs": [
        {
          "output_type": "execute_result",
          "data": {
            "text/html": [
              "<div>\n",
              "<style scoped>\n",
              "    .dataframe tbody tr th:only-of-type {\n",
              "        vertical-align: middle;\n",
              "    }\n",
              "\n",
              "    .dataframe tbody tr th {\n",
              "        vertical-align: top;\n",
              "    }\n",
              "\n",
              "    .dataframe thead th {\n",
              "        text-align: right;\n",
              "    }\n",
              "</style>\n",
              "<table border=\"1\" class=\"dataframe\">\n",
              "  <thead>\n",
              "    <tr style=\"text-align: right;\">\n",
              "      <th></th>\n",
              "      <th>Tarih</th>\n",
              "      <th>PM10 ( µg/m³ )</th>\n",
              "      <th>SO2 ( µg/m³ )</th>\n",
              "      <th>CO ( µg/m³ )</th>\n",
              "      <th>NO2 ( µg/m³ )</th>\n",
              "    </tr>\n",
              "  </thead>\n",
              "  <tbody>\n",
              "    <tr>\n",
              "      <th>1</th>\n",
              "      <td>2020-03-01 00:00:56</td>\n",
              "      <td>17.47</td>\n",
              "      <td>3.66</td>\n",
              "      <td>203.79</td>\n",
              "      <td>7.73</td>\n",
              "    </tr>\n",
              "    <tr>\n",
              "      <th>2</th>\n",
              "      <td>2020-03-01 01:00:56</td>\n",
              "      <td>11.96</td>\n",
              "      <td>4.26</td>\n",
              "      <td>225.59</td>\n",
              "      <td>7.66</td>\n",
              "    </tr>\n",
              "    <tr>\n",
              "      <th>3</th>\n",
              "      <td>2020-03-01 02:00:56</td>\n",
              "      <td>25.56</td>\n",
              "      <td>3.29</td>\n",
              "      <td>224.87</td>\n",
              "      <td>7.74</td>\n",
              "    </tr>\n",
              "    <tr>\n",
              "      <th>4</th>\n",
              "      <td>2020-03-01 03:00:56</td>\n",
              "      <td>17.58</td>\n",
              "      <td>2.73</td>\n",
              "      <td>237.86</td>\n",
              "      <td>7.69</td>\n",
              "    </tr>\n",
              "    <tr>\n",
              "      <th>5</th>\n",
              "      <td>2020-03-01 04:00:56</td>\n",
              "      <td>35.75</td>\n",
              "      <td>3.22</td>\n",
              "      <td>240.17</td>\n",
              "      <td>7.70</td>\n",
              "    </tr>\n",
              "    <tr>\n",
              "      <th>...</th>\n",
              "      <td>...</td>\n",
              "      <td>...</td>\n",
              "      <td>...</td>\n",
              "      <td>...</td>\n",
              "      <td>...</td>\n",
              "    </tr>\n",
              "    <tr>\n",
              "      <th>2204</th>\n",
              "      <td>2020-05-31 19:00:56</td>\n",
              "      <td>29.09</td>\n",
              "      <td>4.50</td>\n",
              "      <td>129.89</td>\n",
              "      <td>3.92</td>\n",
              "    </tr>\n",
              "    <tr>\n",
              "      <th>2205</th>\n",
              "      <td>2020-05-31 20:00:56</td>\n",
              "      <td>36.97</td>\n",
              "      <td>4.74</td>\n",
              "      <td>128.13</td>\n",
              "      <td>3.93</td>\n",
              "    </tr>\n",
              "    <tr>\n",
              "      <th>2206</th>\n",
              "      <td>2020-05-31 21:00:56</td>\n",
              "      <td>24.06</td>\n",
              "      <td>4.52</td>\n",
              "      <td>125.54</td>\n",
              "      <td>3.83</td>\n",
              "    </tr>\n",
              "    <tr>\n",
              "      <th>2207</th>\n",
              "      <td>2020-05-31 22:00:56</td>\n",
              "      <td>9.35</td>\n",
              "      <td>4.75</td>\n",
              "      <td>128.38</td>\n",
              "      <td>3.91</td>\n",
              "    </tr>\n",
              "    <tr>\n",
              "      <th>2208</th>\n",
              "      <td>2020-05-31 23:00:56</td>\n",
              "      <td>22.35</td>\n",
              "      <td>4.49</td>\n",
              "      <td>129.75</td>\n",
              "      <td>3.92</td>\n",
              "    </tr>\n",
              "  </tbody>\n",
              "</table>\n",
              "<p>2208 rows × 5 columns</p>\n",
              "</div>"
            ],
            "text/plain": [
              "                   Tarih  PM10 ( µg/m³ )  ...  CO ( µg/m³ )  NO2 ( µg/m³ )\n",
              "1    2020-03-01 00:00:56           17.47  ...        203.79           7.73\n",
              "2    2020-03-01 01:00:56           11.96  ...        225.59           7.66\n",
              "3    2020-03-01 02:00:56           25.56  ...        224.87           7.74\n",
              "4    2020-03-01 03:00:56           17.58  ...        237.86           7.69\n",
              "5    2020-03-01 04:00:56           35.75  ...        240.17           7.70\n",
              "...                  ...             ...  ...           ...            ...\n",
              "2204 2020-05-31 19:00:56           29.09  ...        129.89           3.92\n",
              "2205 2020-05-31 20:00:56           36.97  ...        128.13           3.93\n",
              "2206 2020-05-31 21:00:56           24.06  ...        125.54           3.83\n",
              "2207 2020-05-31 22:00:56            9.35  ...        128.38           3.91\n",
              "2208 2020-05-31 23:00:56           22.35  ...        129.75           3.92\n",
              "\n",
              "[2208 rows x 5 columns]"
            ]
          },
          "metadata": {
            "tags": []
          },
          "execution_count": 186
        }
      ]
    },
    {
      "cell_type": "code",
      "metadata": {
        "id": "_hGFIkK6pye7",
        "colab_type": "code",
        "colab": {
          "base_uri": "https://localhost:8080/",
          "height": 17
        },
        "outputId": "833ab327-0fbe-4138-8073-d4c5201aa579"
      },
      "source": [
        "#asdadsadadsasdasdads\n",
        "\n",
        "import warnings\n",
        "import itertools\n",
        "from math import sqrt\n",
        "from datetime import datetime\n",
        "from numpy import concatenate\n",
        "import numpy as np\n",
        "import pandas as pd\n",
        "import math\n",
        "from sklearn.preprocessing import MinMaxScaler\n",
        "from sklearn.preprocessing import LabelEncoder\n",
        "from sklearn.metrics import mean_squared_error\n",
        "from keras.models import Sequential\n",
        "from keras.layers import Dense, Dropout, Activation\n",
        "from keras.layers import LSTM, Bidirectional, GRU\n",
        "from keras.layers.recurrent import LSTM\n",
        "from sklearn.utils import shuffle\n",
        "import plotly.offline as py\n",
        "import plotly.graph_objs as go\n",
        "import seaborn as sns\n",
        "import matplotlib.pyplot as plt\n",
        "\n",
        "py.init_notebook_mode(connected=True)\n",
        "plt.style.use('fivethirtyeight')"
      ],
      "execution_count": null,
      "outputs": [
        {
          "output_type": "display_data",
          "data": {
            "text/html": [
              "        <script type=\"text/javascript\">\n",
              "        window.PlotlyConfig = {MathJaxConfig: 'local'};\n",
              "        if (window.MathJax) {MathJax.Hub.Config({SVG: {font: \"STIX-Web\"}});}\n",
              "        if (typeof require !== 'undefined') {\n",
              "        require.undef(\"plotly\");\n",
              "        requirejs.config({\n",
              "            paths: {\n",
              "                'plotly': ['https://cdn.plot.ly/plotly-latest.min']\n",
              "            }\n",
              "        });\n",
              "        require(['plotly'], function(Plotly) {\n",
              "            window._Plotly = Plotly;\n",
              "        });\n",
              "        }\n",
              "        </script>\n",
              "        "
            ]
          },
          "metadata": {
            "tags": []
          }
        }
      ]
    },
    {
      "cell_type": "code",
      "metadata": {
        "id": "3Jb1Ipm6vZbT",
        "colab_type": "code",
        "colab": {}
      },
      "source": [
        "df['Tarih'] = pd.to_datetime(df.Tarih, format='%d-%m-%Y')\n",
        "#İndex'e Alınması\n",
        "df.index = df.Tarih"
      ],
      "execution_count": null,
      "outputs": []
    },
    {
      "cell_type": "code",
      "metadata": {
        "id": "Ya48mg1pvyNf",
        "colab_type": "code",
        "colab": {
          "base_uri": "https://localhost:8080/",
          "height": 238
        },
        "outputId": "8a168abb-46ce-41ee-8d81-4240aa42f76a"
      },
      "source": [
        "df.Tarih"
      ],
      "execution_count": null,
      "outputs": [
        {
          "output_type": "execute_result",
          "data": {
            "text/plain": [
              "Tarih\n",
              "2020-03-01 00:00:56   2020-03-01 00:00:56\n",
              "2020-03-01 01:00:56   2020-03-01 01:00:56\n",
              "2020-03-01 02:00:56   2020-03-01 02:00:56\n",
              "2020-03-01 03:00:56   2020-03-01 03:00:56\n",
              "2020-03-01 04:00:56   2020-03-01 04:00:56\n",
              "                              ...        \n",
              "2020-05-31 19:00:56   2020-05-31 19:00:56\n",
              "2020-05-31 20:00:56   2020-05-31 20:00:56\n",
              "2020-05-31 21:00:56   2020-05-31 21:00:56\n",
              "2020-05-31 22:00:56   2020-05-31 22:00:56\n",
              "2020-05-31 23:00:56   2020-05-31 23:00:56\n",
              "Name: Tarih, Length: 2208, dtype: datetime64[ns]"
            ]
          },
          "metadata": {
            "tags": []
          },
          "execution_count": 189
        }
      ]
    },
    {
      "cell_type": "code",
      "metadata": {
        "id": "6QFtou2dv0Fa",
        "colab_type": "code",
        "colab": {}
      },
      "source": [
        "values = df['PM10 ( µg/m³ )'].values.reshape(-1,1)\n",
        "values = values.astype('float32')\n",
        "scaler = MinMaxScaler(feature_range=(0, 1))\n",
        "dataset = scaler.fit_transform(values)"
      ],
      "execution_count": null,
      "outputs": []
    },
    {
      "cell_type": "code",
      "metadata": {
        "id": "iADuPy3kv2jO",
        "colab_type": "code",
        "colab": {
          "base_uri": "https://localhost:8080/",
          "height": 34
        },
        "outputId": "aee2f6c4-a1a8-4f81-99d3-0b369431aa22"
      },
      "source": [
        "TRAIN_SIZE = 0.60\n",
        "train_size = int(len(dataset) * TRAIN_SIZE)\n",
        "test_size = len(dataset) - train_size\n",
        "train, test = dataset[0:train_size, :], dataset[train_size:len(dataset), :]\n",
        "print(\"Gün Sayıları (training set, test set): \" + str((len(train), len(test))))"
      ],
      "execution_count": null,
      "outputs": [
        {
          "output_type": "stream",
          "text": [
            "Gün Sayıları (training set, test set): (1324, 884)\n"
          ],
          "name": "stdout"
        }
      ]
    },
    {
      "cell_type": "code",
      "metadata": {
        "id": "x66BeNfowY0d",
        "colab_type": "code",
        "colab": {}
      },
      "source": [
        "def create_dataset(dataset, window_size = 1):\n",
        "    data_X, data_Y = [], []\n",
        "    for i in range(len(dataset) - window_size - 1):\n",
        "        a = dataset[i:(i + window_size), 0]\n",
        "        data_X.append(a)\n",
        "        data_Y.append(dataset[i + window_size, 0])\n",
        "    return(np.array(data_X), np.array(data_Y))"
      ],
      "execution_count": null,
      "outputs": []
    },
    {
      "cell_type": "code",
      "metadata": {
        "id": "4FL-ASlgwnkO",
        "colab_type": "code",
        "colab": {
          "base_uri": "https://localhost:8080/",
          "height": 85
        },
        "outputId": "2f836d5d-c5e9-4526-f947-5337d64f288f"
      },
      "source": [
        "window_size = 1\n",
        "train_X, train_Y = create_dataset(train, window_size)\n",
        "test_X, test_Y = create_dataset(test, window_size)\n",
        "print(\"Original training data shape:\")\n",
        "print(train_X.shape)\n",
        "# Yeni verisetinin şekline bakalım.\n",
        "train_X = np.reshape(train_X, (train_X.shape[0], 1, train_X.shape[1]))\n",
        "test_X = np.reshape(test_X, (test_X.shape[0], 1, test_X.shape[1]))\n",
        "print(\"New training data shape:\")\n",
        "print(train_X.shape)"
      ],
      "execution_count": null,
      "outputs": [
        {
          "output_type": "stream",
          "text": [
            "Original training data shape:\n",
            "(1322, 1)\n",
            "New training data shape:\n",
            "(1322, 1, 1)\n"
          ],
          "name": "stdout"
        }
      ]
    },
    {
      "cell_type": "code",
      "metadata": {
        "id": "fCBVqAdFwqr0",
        "colab_type": "code",
        "colab": {
          "base_uri": "https://localhost:8080/",
          "height": 1000
        },
        "outputId": "45f68b6b-bd72-4f20-a96a-1409c5cdd937"
      },
      "source": [
        "def fit_model(train_X, train_Y, window_size = 1):\n",
        "    model = Sequential()\n",
        "    # Modelin tek layerlı şekilde kurulacak.\n",
        "    model.add(LSTM(100, \n",
        "                   input_shape = (1, window_size)))\n",
        "    model.add(Dense(1))\n",
        "    model.compile(loss = \"mean_squared_error\", \n",
        "                  optimizer = \"adam\")\n",
        "   #30 epoch yani 30 kere verisetine bakılacak.\n",
        "    model.fit(train_X, \n",
        "              train_Y, \n",
        "              epochs = 30, \n",
        "              batch_size = 1, \n",
        "              verbose = 1)\n",
        "    \n",
        "    return(model)\n",
        "# Fit the first model.\n",
        "model1 = fit_model(train_X, train_Y, window_size)"
      ],
      "execution_count": null,
      "outputs": [
        {
          "output_type": "stream",
          "text": [
            "Epoch 1/30\n",
            "1322/1322 [==============================] - 3s 2ms/step - loss: 0.0103\n",
            "Epoch 2/30\n",
            "1322/1322 [==============================] - 2s 2ms/step - loss: 0.0094\n",
            "Epoch 3/30\n",
            "1322/1322 [==============================] - 2s 2ms/step - loss: 0.0093\n",
            "Epoch 4/30\n",
            "1322/1322 [==============================] - 2s 2ms/step - loss: 0.0093\n",
            "Epoch 5/30\n",
            "1322/1322 [==============================] - 2s 2ms/step - loss: 0.0091\n",
            "Epoch 6/30\n",
            "1322/1322 [==============================] - 2s 2ms/step - loss: 0.0091\n",
            "Epoch 7/30\n",
            "1322/1322 [==============================] - 2s 2ms/step - loss: 0.0093\n",
            "Epoch 8/30\n",
            "1322/1322 [==============================] - 2s 2ms/step - loss: 0.0092\n",
            "Epoch 9/30\n",
            "1322/1322 [==============================] - 2s 2ms/step - loss: 0.0093\n",
            "Epoch 10/30\n",
            "1322/1322 [==============================] - 2s 2ms/step - loss: 0.0093\n",
            "Epoch 11/30\n",
            "1322/1322 [==============================] - 2s 2ms/step - loss: 0.0092\n",
            "Epoch 12/30\n",
            "1322/1322 [==============================] - 2s 2ms/step - loss: 0.0092\n",
            "Epoch 13/30\n",
            "1322/1322 [==============================] - 2s 2ms/step - loss: 0.0092\n",
            "Epoch 14/30\n",
            "1322/1322 [==============================] - 2s 2ms/step - loss: 0.0092\n",
            "Epoch 15/30\n",
            "1322/1322 [==============================] - 2s 2ms/step - loss: 0.0092\n",
            "Epoch 16/30\n",
            "1322/1322 [==============================] - 2s 2ms/step - loss: 0.0092\n",
            "Epoch 17/30\n",
            "1322/1322 [==============================] - 2s 2ms/step - loss: 0.0092\n",
            "Epoch 18/30\n",
            "1322/1322 [==============================] - 2s 2ms/step - loss: 0.0091\n",
            "Epoch 19/30\n",
            "1322/1322 [==============================] - 2s 2ms/step - loss: 0.0092\n",
            "Epoch 20/30\n",
            "1322/1322 [==============================] - 2s 2ms/step - loss: 0.0091\n",
            "Epoch 21/30\n",
            "1322/1322 [==============================] - 2s 2ms/step - loss: 0.0091\n",
            "Epoch 22/30\n",
            "1322/1322 [==============================] - 2s 2ms/step - loss: 0.0091\n",
            "Epoch 23/30\n",
            "1322/1322 [==============================] - 2s 2ms/step - loss: 0.0091\n",
            "Epoch 24/30\n",
            "1322/1322 [==============================] - 2s 2ms/step - loss: 0.0092\n",
            "Epoch 25/30\n",
            "1322/1322 [==============================] - 2s 2ms/step - loss: 0.0092\n",
            "Epoch 26/30\n",
            "1322/1322 [==============================] - 2s 2ms/step - loss: 0.0091\n",
            "Epoch 27/30\n",
            "1322/1322 [==============================] - 2s 2ms/step - loss: 0.0091\n",
            "Epoch 28/30\n",
            "1322/1322 [==============================] - 2s 2ms/step - loss: 0.0091\n",
            "Epoch 29/30\n",
            "1322/1322 [==============================] - 2s 2ms/step - loss: 0.0091\n",
            "Epoch 30/30\n",
            "1322/1322 [==============================] - 2s 2ms/step - loss: 0.0091\n"
          ],
          "name": "stdout"
        }
      ]
    },
    {
      "cell_type": "code",
      "metadata": {
        "id": "Yu51VsYAwuIs",
        "colab_type": "code",
        "colab": {
          "base_uri": "https://localhost:8080/",
          "height": 51
        },
        "outputId": "6996a842-11cb-40e3-e7f1-977dbb960578"
      },
      "source": [
        "def predict_and_score(model, X, Y):\n",
        "    # Şimdi tahminleri 0-1 ile scale edilmiş halinden geri çeviriyoruz.\n",
        "    pred = scaler.inverse_transform(model.predict(X))\n",
        "    orig_data = scaler.inverse_transform([Y])\n",
        "    # Rmse değerlerini ölçüyoruz.\n",
        "    score = math.sqrt(mean_squared_error(orig_data[0], pred[:, 0]))\n",
        "    return(score, pred)\n",
        "rmse_train, train_predict = predict_and_score(model1, train_X, train_Y)\n",
        "rmse_test, test_predict = predict_and_score(model1, test_X, test_Y)\n",
        "print(\"Training data score: %.2f RMSE\" % rmse_train)\n",
        "print(\"Test data score: %.2f RMSE\" % rmse_test)"
      ],
      "execution_count": null,
      "outputs": [
        {
          "output_type": "stream",
          "text": [
            "Training data score: 18.83 RMSE\n",
            "Test data score: 16.40 RMSE\n"
          ],
          "name": "stdout"
        }
      ]
    },
    {
      "cell_type": "code",
      "metadata": {
        "id": "o8i-FOtAzMDF",
        "colab_type": "code",
        "colab": {
          "base_uri": "https://localhost:8080/",
          "height": 383
        },
        "outputId": "9d389449-5adf-45eb-e4a3-0eda373eb2dc"
      },
      "source": [
        "# Öğrendiklerinini tahminletip ekliyoruz.\n",
        "train_predict_plot = np.empty_like(dataset)\n",
        "train_predict_plot[:, :] = np.nan\n",
        "train_predict_plot[window_size:len(train_predict) + window_size, :] = train_predict\n",
        "# Şimdi ise testleri tahminletiyoruz.\n",
        "test_predict_plot = np.empty_like(dataset)\n",
        "test_predict_plot[:, :] = np.nan\n",
        "test_predict_plot[len(train_predict) + (window_size * 2) + 1:len(dataset) - 1, :] = test_predict\n",
        "# Plot'u oluşturalım.\n",
        "plt.figure(figsize = (15, 5))\n",
        "plt.plot(scaler.inverse_transform(dataset), label = \"True value\")\n",
        "plt.plot(train_predict_plot, label = \"Training set prediction\")\n",
        "plt.plot(test_predict_plot, label = \"Test set prediction\")\n",
        "plt.xlabel(\"veriler\")\n",
        "plt.ylabel(\"Exchange Rates\")\n",
        "plt.title(\"Comparison true vs. predicted training / test\")\n",
        "plt.legend()\n",
        "plt.show()"
      ],
      "execution_count": null,
      "outputs": [
        {
          "output_type": "display_data",
          "data": {
            "image/png": "[encoded data removed]",
            "text/plain": [
              "<Figure size 1080x360 with 1 Axes>"
            ]
          },
          "metadata": {
            "tags": []
          }
        }
      ]
    }
  ]
}