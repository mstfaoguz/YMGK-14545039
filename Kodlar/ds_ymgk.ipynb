{
  "nbformat": 4,
  "nbformat_minor": 0,
  "metadata": {
    "colab": {
      "name": "ds_ymgk.ipynb",
      "provenance": [],
      "collapsed_sections": []
    },
    "kernelspec": {
      "name": "python3",
      "display_name": "Python 3"
    }
  },
  "cells": [
    {
      "cell_type": "code",
      "metadata": {
        "id": "tfMlszLaH8WY",
        "colab_type": "code",
        "colab": {}
      },
      "source": [
        "from google.colab import drive\n",
        "drive.mount(\"/content/drive\")"
      ],
      "execution_count": null,
      "outputs": []
    },
    {
      "cell_type": "code",
      "metadata": {
        "id": "HGc43WlgIg3_",
        "colab_type": "code",
        "colab": {}
      },
      "source": [
        "import pandas as pd\n",
        "import numpy as np\n",
        "from pandas import ExcelWriter\n",
        "from pandas import ExcelFile\n",
        "\n",
        "\n",
        "from sklearn.preprocessing import LabelEncoder\n",
        "#Veristenin Yüklenmesi\n",
        "df = pd.read_excel(\"/content/drive/My Drive/YMGK/Veriseti.xlsx\")"
      ],
      "execution_count": null,
      "outputs": []
    },
    {
      "cell_type": "code",
      "metadata": {
        "id": "2p7HS-RZIhwG",
        "colab_type": "code",
        "colab": {
          "base_uri": "https://localhost:8080/",
          "height": 206
        },
        "outputId": "1f713098-a274-409a-c861-5ccba2b65753"
      },
      "source": [
        "df.head()"
      ],
      "execution_count": null,
      "outputs": [
        {
          "output_type": "execute_result",
          "data": {
            "text/html": [
              "<div>\n",
              "<style scoped>\n",
              "    .dataframe tbody tr th:only-of-type {\n",
              "        vertical-align: middle;\n",
              "    }\n",
              "\n",
              "    .dataframe tbody tr th {\n",
              "        vertical-align: top;\n",
              "    }\n",
              "\n",
              "    .dataframe thead th {\n",
              "        text-align: right;\n",
              "    }\n",
              "</style>\n",
              "<table border=\"1\" class=\"dataframe\">\n",
              "  <thead>\n",
              "    <tr style=\"text-align: right;\">\n",
              "      <th></th>\n",
              "      <th>Tarih</th>\n",
              "      <th>İzmir - Bornova İBB</th>\n",
              "      <th>Unnamed: 2</th>\n",
              "      <th>Unnamed: 3</th>\n",
              "      <th>Unnamed: 4</th>\n",
              "      <th>Unnamed: 5</th>\n",
              "      <th>Unnamed: 6</th>\n",
              "    </tr>\n",
              "  </thead>\n",
              "  <tbody>\n",
              "    <tr>\n",
              "      <th>0</th>\n",
              "      <td>NaT</td>\n",
              "      <td>PM10 ( µg/m³ )</td>\n",
              "      <td>SO2 ( µg/m³ )</td>\n",
              "      <td>CO ( µg/m³ )</td>\n",
              "      <td>NO2 ( µg/m³ )</td>\n",
              "      <td>NOX ( µg/m³ )</td>\n",
              "      <td>NO ( µg/m³ )</td>\n",
              "    </tr>\n",
              "    <tr>\n",
              "      <th>1</th>\n",
              "      <td>2020-04-30 12:00:00</td>\n",
              "      <td>42.8371</td>\n",
              "      <td>12.7785</td>\n",
              "      <td>458.591</td>\n",
              "      <td>4.80393</td>\n",
              "      <td>8.70393</td>\n",
              "      <td>3.9</td>\n",
              "    </tr>\n",
              "    <tr>\n",
              "      <th>2</th>\n",
              "      <td>2020-04-30 11:00:00</td>\n",
              "      <td>38.0281</td>\n",
              "      <td>12.9473</td>\n",
              "      <td>394.726</td>\n",
              "      <td>4.7177</td>\n",
              "      <td>8.70421</td>\n",
              "      <td>3.98652</td>\n",
              "    </tr>\n",
              "    <tr>\n",
              "      <th>3</th>\n",
              "      <td>2020-04-30 10:00:00</td>\n",
              "      <td>47.2697</td>\n",
              "      <td>12.9862</td>\n",
              "      <td>360.089</td>\n",
              "      <td>4.74831</td>\n",
              "      <td>8.75702</td>\n",
              "      <td>4.00871</td>\n",
              "    </tr>\n",
              "    <tr>\n",
              "      <th>4</th>\n",
              "      <td>2020-04-30 09:00:00</td>\n",
              "      <td>41.4326</td>\n",
              "      <td>13.087</td>\n",
              "      <td>338.225</td>\n",
              "      <td>4.78989</td>\n",
              "      <td>8.7427</td>\n",
              "      <td>3.95281</td>\n",
              "    </tr>\n",
              "  </tbody>\n",
              "</table>\n",
              "</div>"
            ],
            "text/plain": [
              "                Tarih İzmir - Bornova İBB  ...     Unnamed: 5    Unnamed: 6\n",
              "0                 NaT      PM10 ( µg/m³ )  ...  NOX ( µg/m³ )  NO ( µg/m³ )\n",
              "1 2020-04-30 12:00:00             42.8371  ...        8.70393           3.9\n",
              "2 2020-04-30 11:00:00             38.0281  ...        8.70421       3.98652\n",
              "3 2020-04-30 10:00:00             47.2697  ...        8.75702       4.00871\n",
              "4 2020-04-30 09:00:00             41.4326  ...         8.7427       3.95281\n",
              "\n",
              "[5 rows x 7 columns]"
            ]
          },
          "metadata": {
            "tags": []
          },
          "execution_count": 65
        }
      ]
    },
    {
      "cell_type": "code",
      "metadata": {
        "id": "Ojd3tvJQJTBe",
        "colab_type": "code",
        "colab": {}
      },
      "source": [
        "df = df.rename(columns=df.iloc[0])\n",
        "df = df.drop(df.index[0])"
      ],
      "execution_count": null,
      "outputs": []
    },
    {
      "cell_type": "code",
      "metadata": {
        "id": "n7xhld1xJlWo",
        "colab_type": "code",
        "colab": {}
      },
      "source": [
        "df.columns.values[0]=\"Tarih\""
      ],
      "execution_count": null,
      "outputs": []
    },
    {
      "cell_type": "code",
      "metadata": {
        "id": "H9QohnS3JpRy",
        "colab_type": "code",
        "colab": {
          "base_uri": "https://localhost:8080/",
          "height": 206
        },
        "outputId": "5123bc7c-42fd-4925-a48c-4e480cd492fb"
      },
      "source": [
        "df1.head()"
      ],
      "execution_count": null,
      "outputs": [
        {
          "output_type": "execute_result",
          "data": {
            "text/html": [
              "<div>\n",
              "<style scoped>\n",
              "    .dataframe tbody tr th:only-of-type {\n",
              "        vertical-align: middle;\n",
              "    }\n",
              "\n",
              "    .dataframe tbody tr th {\n",
              "        vertical-align: top;\n",
              "    }\n",
              "\n",
              "    .dataframe thead th {\n",
              "        text-align: right;\n",
              "    }\n",
              "</style>\n",
              "<table border=\"1\" class=\"dataframe\">\n",
              "  <thead>\n",
              "    <tr style=\"text-align: right;\">\n",
              "      <th></th>\n",
              "      <th>Tarih</th>\n",
              "      <th>PM10 ( µg/m³ )</th>\n",
              "      <th>SO2 ( µg/m³ )</th>\n",
              "      <th>CO ( µg/m³ )</th>\n",
              "      <th>NO2 ( µg/m³ )</th>\n",
              "      <th>NOX ( µg/m³ )</th>\n",
              "      <th>NO ( µg/m³ )</th>\n",
              "    </tr>\n",
              "  </thead>\n",
              "  <tbody>\n",
              "    <tr>\n",
              "      <th>1</th>\n",
              "      <td>2020-04-30 12:00:00</td>\n",
              "      <td>42.8371</td>\n",
              "      <td>12.7785</td>\n",
              "      <td>458.591</td>\n",
              "      <td>4.80393</td>\n",
              "      <td>8.70393</td>\n",
              "      <td>3.9</td>\n",
              "    </tr>\n",
              "    <tr>\n",
              "      <th>2</th>\n",
              "      <td>2020-04-30 11:00:00</td>\n",
              "      <td>38.0281</td>\n",
              "      <td>12.9473</td>\n",
              "      <td>394.726</td>\n",
              "      <td>4.7177</td>\n",
              "      <td>8.70421</td>\n",
              "      <td>3.98652</td>\n",
              "    </tr>\n",
              "    <tr>\n",
              "      <th>3</th>\n",
              "      <td>2020-04-30 10:00:00</td>\n",
              "      <td>47.2697</td>\n",
              "      <td>12.9862</td>\n",
              "      <td>360.089</td>\n",
              "      <td>4.74831</td>\n",
              "      <td>8.75702</td>\n",
              "      <td>4.00871</td>\n",
              "    </tr>\n",
              "    <tr>\n",
              "      <th>4</th>\n",
              "      <td>2020-04-30 09:00:00</td>\n",
              "      <td>41.4326</td>\n",
              "      <td>13.087</td>\n",
              "      <td>338.225</td>\n",
              "      <td>4.78989</td>\n",
              "      <td>8.7427</td>\n",
              "      <td>3.95281</td>\n",
              "    </tr>\n",
              "    <tr>\n",
              "      <th>5</th>\n",
              "      <td>2020-04-30 08:00:00</td>\n",
              "      <td>43</td>\n",
              "      <td>13.0647</td>\n",
              "      <td>331.577</td>\n",
              "      <td>4.75562</td>\n",
              "      <td>8.77444</td>\n",
              "      <td>4.01882</td>\n",
              "    </tr>\n",
              "  </tbody>\n",
              "</table>\n",
              "</div>"
            ],
            "text/plain": [
              "                Tarih PM10 ( µg/m³ )  ... NOX ( µg/m³ ) NO ( µg/m³ )\n",
              "1 2020-04-30 12:00:00        42.8371  ...       8.70393          3.9\n",
              "2 2020-04-30 11:00:00        38.0281  ...       8.70421      3.98652\n",
              "3 2020-04-30 10:00:00        47.2697  ...       8.75702      4.00871\n",
              "4 2020-04-30 09:00:00        41.4326  ...        8.7427      3.95281\n",
              "5 2020-04-30 08:00:00             43  ...       8.77444      4.01882\n",
              "\n",
              "[5 rows x 7 columns]"
            ]
          },
          "metadata": {
            "tags": []
          },
          "execution_count": 68
        }
      ]
    },
    {
      "cell_type": "code",
      "metadata": {
        "id": "9h-nEdHQJz_1",
        "colab_type": "code",
        "colab": {
          "base_uri": "https://localhost:8080/",
          "height": 34
        },
        "outputId": "df518fdf-b8f2-4f6c-fc02-c4fb4caab185"
      },
      "source": [
        "df.isnull().values.any()"
      ],
      "execution_count": null,
      "outputs": [
        {
          "output_type": "execute_result",
          "data": {
            "text/plain": [
              "True"
            ]
          },
          "metadata": {
            "tags": []
          },
          "execution_count": 69
        }
      ]
    },
    {
      "cell_type": "code",
      "metadata": {
        "id": "X5d6VSGHidov",
        "colab_type": "code",
        "colab": {
          "base_uri": "https://localhost:8080/",
          "height": 139
        },
        "outputId": "3d9b0f4a-c66f-41b9-e4b3-d040fd44a384"
      },
      "source": [
        "missing_values_count = df.isnull().sum()\n",
        "missing_values_count[1:7]"
      ],
      "execution_count": null,
      "outputs": [
        {
          "output_type": "execute_result",
          "data": {
            "text/plain": [
              "PM10 ( µg/m³ )    528\n",
              "SO2 ( µg/m³ )      50\n",
              "CO ( µg/m³ )       19\n",
              "NO2 ( µg/m³ )       8\n",
              "NOX ( µg/m³ )       8\n",
              "NO ( µg/m³ )        8\n",
              "dtype: int64"
            ]
          },
          "metadata": {
            "tags": []
          },
          "execution_count": 70
        }
      ]
    },
    {
      "cell_type": "code",
      "metadata": {
        "id": "topEGVtcjzX2",
        "colab_type": "code",
        "colab": {
          "base_uri": "https://localhost:8080/",
          "height": 34
        },
        "outputId": "3207f749-5106-41b6-ac77-8c16d05250cc"
      },
      "source": [
        "#Toplam kaç tane eksik verimiz var ona bakalım\n",
        "total_cells = np.product(df.shape)\n",
        "total_missing = missing_values_count.sum()\n",
        "#Eksik verilerin yüzde(%) olarak ne kadar olduğuna bakalım\n",
        "(total_missing/total_cells) * 100"
      ],
      "execution_count": null,
      "outputs": [
        {
          "output_type": "execute_result",
          "data": {
            "text/plain": [
              "2.4472906403940886"
            ]
          },
          "metadata": {
            "tags": []
          },
          "execution_count": 71
        }
      ]
    },
    {
      "cell_type": "code",
      "metadata": {
        "id": "lh7hxdaAnf5Z",
        "colab_type": "code",
        "colab": {
          "base_uri": "https://localhost:8080/",
          "height": 260
        },
        "outputId": "d73ee15a-1129-4a96-eb47-2a95f06f0dac"
      },
      "source": [
        "df1 = df.dropna()\n",
        "print(df1)"
      ],
      "execution_count": null,
      "outputs": [
        {
          "output_type": "stream",
          "text": [
            "                   Tarih PM10 ( µg/m³ )  ... NOX ( µg/m³ ) NO ( µg/m³ )\n",
            "1    2020-04-30 12:00:00        42.8371  ...       8.70393          3.9\n",
            "2    2020-04-30 11:00:00        38.0281  ...       8.70421      3.98652\n",
            "3    2020-04-30 10:00:00        47.2697  ...       8.75702      4.00871\n",
            "4    2020-04-30 09:00:00        41.4326  ...        8.7427      3.95281\n",
            "5    2020-04-30 08:00:00             43  ...       8.77444      4.01882\n",
            "...                  ...            ...  ...           ...          ...\n",
            "3621 2019-12-01 16:00:00        24.8983  ...        8.9927      3.95534\n",
            "3622 2019-12-01 15:00:00        17.2712  ...       8.78595       3.7941\n",
            "3623 2019-12-01 14:00:00        20.8644  ...       8.89747      3.85662\n",
            "3624 2019-12-01 13:00:00         26.796  ...       8.92865      3.91742\n",
            "3625 2019-12-01 12:00:00             27  ...       8.89213      3.86573\n",
            "\n",
            "[3040 rows x 7 columns]\n"
          ],
          "name": "stdout"
        }
      ]
    },
    {
      "cell_type": "code",
      "metadata": {
        "id": "PP7-3_4Snx_T",
        "colab_type": "code",
        "colab": {
          "base_uri": "https://localhost:8080/",
          "height": 34
        },
        "outputId": "9f7b8f7a-661d-4c81-e044-761233de1742"
      },
      "source": [
        "df1.isnull().values.any()"
      ],
      "execution_count": null,
      "outputs": [
        {
          "output_type": "execute_result",
          "data": {
            "text/plain": [
              "False"
            ]
          },
          "metadata": {
            "tags": []
          },
          "execution_count": 73
        }
      ]
    },
    {
      "cell_type": "code",
      "metadata": {
        "id": "bzpDFwrxny3W",
        "colab_type": "code",
        "colab": {
          "base_uri": "https://localhost:8080/",
          "height": 299
        },
        "outputId": "ea7f73a9-76e6-4748-e092-a4fd9fb6da61"
      },
      "source": [
        "import matplotlib.pyplot as plt\n",
        "\t\n",
        "plt.plot( df[\"Tarih\"], df[\"PM10 ( µg/m³ )\"], marker='', markerfacecolor='blue', color='skyblue',label=\"PM10\")\n",
        "plt.plot( df[\"Tarih\"], df[\"SO2 ( µg/m³ )\"],  marker='', color='green', linewidth=2,label=\"SO2\")\n",
        "plt.plot( df[\"Tarih\"], df[\"CO ( µg/m³ )\"],  marker='', color='olive', linewidth=2, linestyle='dashed', label=\"CO\")\n",
        "plt.plot( df[\"Tarih\"], df[\"NO2 ( µg/m³ )\"], marker='', color='yellow',label=\"NO2\")\n",
        "plt.plot( df[\"Tarih\"], df[\"NOX ( µg/m³ )\"], marker='', color='red',label=\"NOX\")\n",
        "plt.plot( df[\"Tarih\"], df[\"NO ( µg/m³ )\"], marker='', markerfacecolor='blue', color='skyblue',label=\"NO\")\n",
        "plt.legend()"
      ],
      "execution_count": null,
      "outputs": [
        {
          "output_type": "execute_result",
          "data": {
            "text/plain": [
              "<matplotlib.legend.Legend at 0x7f3237593cf8>"
            ]
          },
          "metadata": {
            "tags": []
          },
          "execution_count": 74
        },
        {
          "output_type": "display_data",
          "data": {
            "image/png": "[encoded data removed]",
            "text/plain": [
              "<Figure size 432x288 with 1 Axes>"
            ]
          },
          "metadata": {
            "tags": []
          }
        }
      ]
    },
    {
      "cell_type": "code",
      "metadata": {
        "id": "pCjrs0E4NnfG",
        "colab_type": "code",
        "colab": {
          "base_uri": "https://localhost:8080/",
          "height": 299
        },
        "outputId": "f43fb920-de46-4cd6-be34-18d725ae4120"
      },
      "source": [
        "import matplotlib.pyplot as plt\n",
        "\n",
        "plt.plot( df1[\"Tarih\"], df1[\"PM10 ( µg/m³ )\"], marker='', markerfacecolor='blue', color='skyblue',label=\"PM10\")\n",
        "plt.plot( df1[\"Tarih\"], df1[\"SO2 ( µg/m³ )\"],  marker='', color='green', linewidth=2,label=\"SO2\")\n",
        "plt.plot( df1[\"Tarih\"], df1[\"CO ( µg/m³ )\"],  marker='', color='olive', linewidth=2, linestyle='dashed', label=\"CO\")\n",
        "plt.plot( df1[\"Tarih\"], df1[\"NO2 ( µg/m³ )\"], marker='', color='yellow',label=\"NO2\")\n",
        "plt.plot( df1[\"Tarih\"], df1[\"NOX ( µg/m³ )\"], marker='', color='red',label=\"NOX\")\n",
        "plt.plot( df1[\"Tarih\"], df1[\"NO ( µg/m³ )\"], marker='', markerfacecolor='blue', color='skyblue',label=\"NO\")\n",
        "plt.legend()\n"
      ],
      "execution_count": null,
      "outputs": [
        {
          "output_type": "execute_result",
          "data": {
            "text/plain": [
              "<matplotlib.legend.Legend at 0x7f323757e710>"
            ]
          },
          "metadata": {
            "tags": []
          },
          "execution_count": 75
        },
        {
          "output_type": "display_data",
          "data": {
            "image/png": "[encoded data removed]",
            "text/plain": [
              "<Figure size 432x288 with 1 Axes>"
            ]
          },
          "metadata": {
            "tags": []
          }
        }
      ]
    },
    {
      "cell_type": "code",
      "metadata": {
        "id": "mmr1dg4Zv05W",
        "colab_type": "code",
        "colab": {
          "base_uri": "https://localhost:8080/",
          "height": 104
        },
        "outputId": "12ba58b5-63c4-4a0d-c17a-7c052925fbae"
      },
      "source": [
        "import warnings\n",
        "import itertools\n",
        "from math import sqrt\n",
        "from datetime import datetime\n",
        "from numpy import concatenate\n",
        "import numpy as np\n",
        "import pandas as pd\n",
        "import math\n",
        "from sklearn.preprocessing import MinMaxScaler\n",
        "from sklearn.preprocessing import LabelEncoder\n",
        "from sklearn.metrics import mean_squared_error\n",
        "from keras.models import Sequential\n",
        "from keras.layers import Dense, Dropout, Activation\n",
        "from keras.layers import LSTM, Bidirectional, GRU\n",
        "from keras.layers.recurrent import LSTM\n",
        "from sklearn.utils import shuffle\n",
        "import plotly.offline as py\n",
        "import plotly.graph_objs as go\n",
        "import seaborn as sns\n",
        "import matplotlib.pyplot as plt\n",
        "%matplotlib inline\n",
        "py.init_notebook_mode(connected=True)\n",
        "plt.style.use('fivethirtyeight')"
      ],
      "execution_count": null,
      "outputs": [
        {
          "output_type": "stream",
          "text": [
            "Using TensorFlow backend.\n",
            "/usr/local/lib/python3.6/dist-packages/statsmodels/tools/_testing.py:19: FutureWarning:\n",
            "\n",
            "pandas.util.testing is deprecated. Use the functions in the public API at pandas.testing instead.\n",
            "\n"
          ],
          "name": "stderr"
        },
        {
          "output_type": "display_data",
          "data": {
            "text/html": [
              "        <script type=\"text/javascript\">\n",
              "        window.PlotlyConfig = {MathJaxConfig: 'local'};\n",
              "        if (window.MathJax) {MathJax.Hub.Config({SVG: {font: \"STIX-Web\"}});}\n",
              "        if (typeof require !== 'undefined') {\n",
              "        require.undef(\"plotly\");\n",
              "        requirejs.config({\n",
              "            paths: {\n",
              "                'plotly': ['https://cdn.plot.ly/plotly-latest.min']\n",
              "            }\n",
              "        });\n",
              "        require(['plotly'], function(Plotly) {\n",
              "            window._Plotly = Plotly;\n",
              "        });\n",
              "        }\n",
              "        </script>\n",
              "        "
            ]
          },
          "metadata": {
            "tags": []
          }
        }
      ]
    },
    {
      "cell_type": "code",
      "metadata": {
        "id": "4zW8cyj2v1OU",
        "colab_type": "code",
        "colab": {}
      },
      "source": [
        "#PM10'un seçilmesi\n",
        "values = df1['SO2 ( µg/m³ )'].values.reshape(-1,1)\n",
        "values = values.astype('float32')\n",
        "scaler = MinMaxScaler(feature_range=(0, 1))\n",
        "dataset = scaler.fit_transform(values)"
      ],
      "execution_count": null,
      "outputs": []
    },
    {
      "cell_type": "code",
      "metadata": {
        "id": "0uznW6A7xgoS",
        "colab_type": "code",
        "colab": {
          "base_uri": "https://localhost:8080/",
          "height": 34
        },
        "outputId": "35199d00-007f-4eeb-b13d-9b80583d67b2"
      },
      "source": [
        "# %60 Train % 40 Test\n",
        "TRAIN_SIZE = 0.60\n",
        "train_size = int(len(dataset) * TRAIN_SIZE)\n",
        "test_size = len(dataset) - train_size\n",
        "train, test = dataset[0:train_size, :], dataset[train_size:len(dataset), :]\n",
        "print(\"Gün Sayıları (training set, test set): \" + str((len(train), len(test))))\n"
      ],
      "execution_count": null,
      "outputs": [
        {
          "output_type": "stream",
          "text": [
            "Gün Sayıları (training set, test set): (1824, 1216)\n"
          ],
          "name": "stdout"
        }
      ]
    },
    {
      "cell_type": "code",
      "metadata": {
        "id": "4mR2nei7xhoO",
        "colab_type": "code",
        "colab": {}
      },
      "source": [
        "def create_dataset(dataset, window_size = 1):\n",
        "    data_X, data_Y = [], []\n",
        "    for i in range(len(dataset) - window_size - 1):\n",
        "        a = dataset[i:(i + window_size), 0]\n",
        "        data_X.append(a)\n",
        "        data_Y.append(dataset[i + window_size, 0])\n",
        "    return(np.array(data_X), np.array(data_Y))"
      ],
      "execution_count": null,
      "outputs": []
    },
    {
      "cell_type": "code",
      "metadata": {
        "id": "oAx26SaKxhtx",
        "colab_type": "code",
        "colab": {
          "base_uri": "https://localhost:8080/",
          "height": 86
        },
        "outputId": "5ad79d03-99fd-4529-b85c-839ce9c83efd"
      },
      "source": [
        "window_size = 1\n",
        "train_X, train_Y = create_dataset(train, window_size)\n",
        "test_X, test_Y = create_dataset(test, window_size)\n",
        "print(\"Original training data shape:\")\n",
        "print(train_X.shape)\n",
        "# Yeni verisetinin şekline bakalım.\n",
        "train_X = np.reshape(train_X, (train_X.shape[0], 1, train_X.shape[1]))\n",
        "test_X = np.reshape(test_X, (test_X.shape[0], 1, test_X.shape[1]))\n",
        "print(\"New training data shape:\")\n",
        "print(train_X.shape)"
      ],
      "execution_count": null,
      "outputs": [
        {
          "output_type": "stream",
          "text": [
            "Original training data shape:\n",
            "(1822, 1)\n",
            "New training data shape:\n",
            "(1822, 1, 1)\n"
          ],
          "name": "stdout"
        }
      ]
    },
    {
      "cell_type": "code",
      "metadata": {
        "id": "B827untAxh8b",
        "colab_type": "code",
        "colab": {
          "base_uri": "https://localhost:8080/",
          "height": 1000
        },
        "outputId": "b3c1a5b8-5841-4d38-f0e7-73a9848a8250"
      },
      "source": [
        "def fit_model(train_X, train_Y, window_size = 1):\n",
        "    model = Sequential()\n",
        "    # Modelin tek layerlı şekilde kurulacak.\n",
        "    model.add(LSTM(100, \n",
        "                   input_shape = (1, window_size)))\n",
        "    model.add(Dense(1))\n",
        "    model.compile(loss = \"mean_squared_error\", \n",
        "                  optimizer = \"adam\")\n",
        "   #30 epoch yani 30 kere verisetine bakılacak.\n",
        "    model.fit(train_X, \n",
        "              train_Y, \n",
        "              epochs = 30, \n",
        "              batch_size = 1, \n",
        "              verbose = 1)\n",
        "    \n",
        "    return(model)\n",
        "# Fit the first model.\n",
        "model1 = fit_model(train_X, train_Y, window_size)"
      ],
      "execution_count": null,
      "outputs": [
        {
          "output_type": "stream",
          "text": [
            "Epoch 1/30\n",
            "1822/1822 [==============================] - 3s 2ms/step - loss: 0.0033\n",
            "Epoch 2/30\n",
            "1822/1822 [==============================] - 3s 2ms/step - loss: 1.8241e-04\n",
            "Epoch 3/30\n",
            "1822/1822 [==============================] - 3s 2ms/step - loss: 1.9223e-04\n",
            "Epoch 4/30\n",
            "1822/1822 [==============================] - 3s 2ms/step - loss: 1.8244e-04\n",
            "Epoch 5/30\n",
            "1822/1822 [==============================] - 3s 2ms/step - loss: 1.8217e-04\n",
            "Epoch 6/30\n",
            "1822/1822 [==============================] - 3s 2ms/step - loss: 1.8588e-04\n",
            "Epoch 7/30\n",
            "1822/1822 [==============================] - 3s 2ms/step - loss: 1.6806e-04\n",
            "Epoch 8/30\n",
            "1822/1822 [==============================] - 3s 2ms/step - loss: 1.7482e-04\n",
            "Epoch 9/30\n",
            "1822/1822 [==============================] - 3s 2ms/step - loss: 1.8273e-04\n",
            "Epoch 10/30\n",
            "1822/1822 [==============================] - 3s 2ms/step - loss: 1.7131e-04\n",
            "Epoch 11/30\n",
            "1822/1822 [==============================] - 3s 2ms/step - loss: 1.7119e-04\n",
            "Epoch 12/30\n",
            "1822/1822 [==============================] - 3s 2ms/step - loss: 1.6732e-04\n",
            "Epoch 13/30\n",
            "1822/1822 [==============================] - 3s 2ms/step - loss: 1.7090e-04\n",
            "Epoch 14/30\n",
            "1822/1822 [==============================] - 3s 2ms/step - loss: 1.6792e-04\n",
            "Epoch 15/30\n",
            "1822/1822 [==============================] - 3s 2ms/step - loss: 1.6822e-04\n",
            "Epoch 16/30\n",
            "1822/1822 [==============================] - 3s 2ms/step - loss: 1.7913e-04\n",
            "Epoch 17/30\n",
            "1822/1822 [==============================] - 3s 2ms/step - loss: 1.6814e-04\n",
            "Epoch 18/30\n",
            "1822/1822 [==============================] - 3s 2ms/step - loss: 1.6544e-04\n",
            "Epoch 19/30\n",
            "1822/1822 [==============================] - 3s 2ms/step - loss: 1.7543e-04\n",
            "Epoch 20/30\n",
            "1822/1822 [==============================] - 3s 2ms/step - loss: 1.7019e-04\n",
            "Epoch 21/30\n",
            "1822/1822 [==============================] - 3s 2ms/step - loss: 1.6933e-04\n",
            "Epoch 22/30\n",
            "1822/1822 [==============================] - 3s 2ms/step - loss: 1.6503e-04\n",
            "Epoch 23/30\n",
            "1822/1822 [==============================] - 3s 2ms/step - loss: 1.6136e-04\n",
            "Epoch 24/30\n",
            "1822/1822 [==============================] - 3s 2ms/step - loss: 1.6674e-04\n",
            "Epoch 25/30\n",
            "1822/1822 [==============================] - 3s 2ms/step - loss: 1.6196e-04\n",
            "Epoch 26/30\n",
            "1822/1822 [==============================] - 3s 2ms/step - loss: 1.6602e-04\n",
            "Epoch 27/30\n",
            "1822/1822 [==============================] - 3s 2ms/step - loss: 1.6539e-04\n",
            "Epoch 28/30\n",
            "1822/1822 [==============================] - 3s 2ms/step - loss: 1.6378e-04\n",
            "Epoch 29/30\n",
            "1822/1822 [==============================] - 3s 2ms/step - loss: 1.6241e-04\n",
            "Epoch 30/30\n",
            "1822/1822 [==============================] - 3s 2ms/step - loss: 1.6228e-04\n"
          ],
          "name": "stdout"
        }
      ]
    },
    {
      "cell_type": "code",
      "metadata": {
        "id": "VB0QX-9fxhr2",
        "colab_type": "code",
        "colab": {
          "base_uri": "https://localhost:8080/",
          "height": 52
        },
        "outputId": "0473e553-60a5-4ceb-e2d4-9224af122b93"
      },
      "source": [
        "def predict_and_score(model, X, Y):\n",
        "    # Şimdi tahminleri 0-1 ile scale edilmiş halinden geri çeviriyoruz.\n",
        "    pred = scaler.inverse_transform(model.predict(X))\n",
        "    orig_data = scaler.inverse_transform([Y])\n",
        "    # Rmse değerlerini ölçüyoruz.\n",
        "    score = math.sqrt(mean_squared_error(orig_data[0], pred[:, 0]))\n",
        "    return(score, pred)\n",
        "rmse_train, train_predict = predict_and_score(model1, train_X, train_Y)\n",
        "rmse_test, test_predict = predict_and_score(model1, test_X, test_Y)\n",
        "print(\"Training data score: %.2f RMSE\" % rmse_train)\n",
        "print(\"Test data score: %.2f RMSE\" % rmse_test)"
      ],
      "execution_count": null,
      "outputs": [
        {
          "output_type": "stream",
          "text": [
            "Training data score: 0.34 RMSE\n",
            "Test data score: 0.68 RMSE\n"
          ],
          "name": "stdout"
        }
      ]
    },
    {
      "cell_type": "code",
      "metadata": {
        "id": "TS_i_Mo_x3kK",
        "colab_type": "code",
        "colab": {}
      },
      "source": [
        "# Öğrendiklerinini tahminletip ekliyoruz.\n",
        "train_predict_plot = np.empty_like(dataset)\n",
        "train_predict_plot[:, :] = np.nan\n",
        "train_predict_plot[window_size:len(train_predict) + window_size, :] = train_predict\n",
        "# Şimdi ise testleri tahminletiyoruz.\n",
        "test_predict_plot = np.empty_like(dataset)\n",
        "test_predict_plot[:, :] = np.nan\n",
        "test_predict_plot[len(train_predict) + (window_size * 2) + 1:len(dataset) - 1, :] = test_predict\n",
        "# Plot'u oluşturalım.\n",
        "plt.figure(figsize = (15, 5))\n",
        "plt.plot(scaler.inverse_transform(dataset), label = \"True value\")\n",
        "plt.plot(train_predict_plot, label = \"Training set prediction\")\n",
        "plt.plot(test_predict_plot, label = \"Test set prediction\")\n",
        "plt.xlabel(\"Days\")\n",
        "plt.ylabel(\"Exchange Rates\")\n",
        "plt.title(\"Comparison true vs. predicted training / test\")\n",
        "plt.legend()\n",
        "plt.show()"
      ],
      "execution_count": null,
      "outputs": []
    },
    {
      "cell_type": "code",
      "metadata": {
        "id": "vGJF5eyax3ps",
        "colab_type": "code",
        "colab": {}
      },
      "source": [
        ""
      ],
      "execution_count": null,
      "outputs": []
    },
    {
      "cell_type": "code",
      "metadata": {
        "id": "HYpZHdgMx3zb",
        "colab_type": "code",
        "colab": {}
      },
      "source": [
        ""
      ],
      "execution_count": null,
      "outputs": []
    },
    {
      "cell_type": "code",
      "metadata": {
        "id": "-j__i2Kbx3nw",
        "colab_type": "code",
        "colab": {}
      },
      "source": [
        ""
      ],
      "execution_count": null,
      "outputs": []
    }
  ]
}